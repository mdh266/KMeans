{
 "cells": [
  {
   "cell_type": "markdown",
   "id": "93682e60-acbb-4f99-884c-4e354ff205a2",
   "metadata": {
    "tags": []
   },
   "source": [
    "# Writing A Scikit Learn Compatible Clustering Algorithm\n",
    "---------------------\n",
    "\n",
    "__[1. Introduction](#first-bullet)__\n",
    "\n",
    "__[2. The k-means clustering alogorithm](#second-bullet)__\n",
    "\n",
    "__[3. Writing the k-means algorithm with NumPy](#third-bullet)__\n",
    "\n",
    "__[4. Writing a Scikit-Learn compatible estimator](#fourth-bullet)__\n",
    "\n",
    "__[5. Using the elbow method with GridSearchCV](#fifth-bullet)__\n",
    "\n",
    "\n",
    "## Introduction <a class=\"anchor\" id=\"first-bullet\"></a>\n",
    "-------------\n",
    "\n",
    "Clustering algorithms and unsupervised learning methods have been gaining popularity over the years. This is partly because the amount of data being generated has increased exponentially, but also because labels for this data is often still hard to come by. Labeling data can be time consuming and requires human effort which can be expensive. Unsupervised learning methods are machine learning methods that can be used to gleam information from unlabeled data. Clustering algorithms specifically take unlabeled data points within a dataset and try to group them into \"clusters\". Within clusters datapoints are very \"similar\" (in some sense that will be discussed) later and datapoints between cluster are very \"disimilar\".\n",
    "\n",
    "I have mixed feelings on clustering. It's often hard to quantify how well a model is performing when you dont have labels to define what is correct or not. On the other hand without labeled data, they are often all we've got! Despite being hard to quantify their performance clustering methods can be helpful for [Semi-Supervised Learning](https://en.wikipedia.org/wiki/Semi-supervised_learning) where there is a small amount of labeled data and a large amount of unlabeled data.\n",
    "\n",
    "In this post, I will go over how to write a [k-means clustering](https://en.wikipedia.org/wiki/K-means_clustering) algorithm from scratch using [NumPy](https://numpy.org/). The algorithm will be explained in the next section and while seamingly simple, it can be tricky to implement efficiently! As an added bonus, I will go over how to implement the algorithm in a way that is [Scikit-Learn](https://scikit-learn.org/stable/) compatible so that we can use Scikit-Learn's framework including [Pipelines](https://scikit-learn.org/stable/modules/generated/sklearn.pipeline.Pipeline.html) and [GridSearchCV](https://scikit-learn.org/stable/modules/generated/sklearn.model_selection.GridSearchCV.html) for finding the best number of clusters.\n",
    "\n",
    "Let's start out by talking about the technical details of the k-means clustering algorithm.\n",
    "\n",
    "## The k-means clustering alogorithm <a class=\"anchor\" id=\"second-bullet\"></a>\n",
    "--------------------\n",
    "\n",
    "The k-means clustering algorithm is a means of partitioning a data $\\textbf{X} \\in \\mathbb{R}^{n \\times p}$ into $k$ clusters that assumes. It specifically assumes\n",
    "\n",
    "* explicitly that the number of clusters can be defined *a-priori*.\n",
    "\n",
    "* implicitly that all points in the dataset belong to clusters that can be well-separated\n",
    "\n",
    "The main idea of the algorithm is to find a centroid for each of the $k$ clusters, $\\boldsymbol \\mu_{k} \\in \\mathbb{R}^{p}$, that represents the \"center\" of the cluster. The algorithm then assign points within a dataset to the cluster that it is closest to. This assignement requires us to define a metric $d(x_{1}, x_{2})$ to tell the to tell how close two points are within our feature space. Often times the distance function $d$ is taken to the [euclidian distance](https://en.wikipedia.org/wiki/Euclidean_distance).  \n",
    "\n",
    "The k-means clustering algorithm tries to form clusters which contain points which are similar with respect to the distance metric $d$. It turns out this is equivalent to minimizing the variance within each cluster. Let the set of all clusters be $\\mathbf{S} = \\{S_1, \\, \\ldots, \\, S_k\\}$, then the cost function is defined as,\n",
    "\n",
    "\\begin{align}\n",
    "\\mathcal{J}(k) \\; &= \\; \\sum_{j=1}^k |S_j| \\operatorname{Var} S_j \\\\\n",
    "&= \\; \\sum_{i=1}^{n} \\sum_{j=1}^{k} r_{i,j} \\,  \\Vert \\textbf{x}_i - \\boldsymbol \\mu_j \\Vert^{2}\n",
    "\\end{align}\n",
    "\n",
    "Where for each $\\textbf{x}_i \\in \\mathbb{R}^{p}$ we have the definition of the indicator function,\n",
    "\n",
    "$$ r_{i,k} \\; = \\; \\left\\{  \\begin{array}{cc}\n",
    "1, & \\text{if} \\;  k = \n",
    "\\underset{j} {\\operatorname{arg\\,min}} \\Vert \\textbf{x}_j - \\boldsymbol \\mu_j \\Vert^{2}  \\\\\n",
    "0, & \\text{otherwise}\n",
    "\\end{array} \\right.\n",
    "$$\n",
    "\n",
    "We can see that the sum, $|S_k| \\; = \\; \\sum_{i=1}^n r_{i,k}$ is the number of points assigned to each cluster! \n",
    "\n",
    "Minimizing the cost function $\\mathcal{J}(k)$ is an NP-hard problem and a heuristic is usually applied to approximate the optimal centroids. This heuristic is a greedy iterative method that follows the steps,\n",
    "\n",
    "1. Intialize the centroids by randomly assigning $\\boldsymbol \\mu_k$ to one of the datapoints\n",
    "\n",
    "Then while not coveraged,\n",
    "\n",
    "2. Assign each $x_{i}$ to a cluster, i.e. find $r_{i,k}$\n",
    "3. UpdatE $\\boldsymbol \\mu_{k}$ by taking them to be the mean of all datapoints in the cluster, \\begin{align}\n",
    "\\boldsymbol \\mu_k \\;& = \\; \\frac{\\sum_{i=1}^n r_{i,k} \\textbf{x}_i}{\\sum_{i=1}^n r_{i,k}} \\\\\n",
    "&= \\underset{x \\in S_k} {\\operatorname{avg}}(x)\n",
    "\\end{align}\n",
    "\n",
    "Convergence is usually taken to be that the distance between centroid values after each iteration being less than some predefined tolerance. Often times one can also set a maximum number iterations to be no larger than prefined number.\n",
    "\n",
    "This heuristic method is used to train the k-means model and attempts to find groupings of the data that minimizes the cost function which is the weighted sum of the squares errors of the clusters. Given that is the cost function is a sum of square erros, *it is sensitive to outliers* just like linear regression. In addition the k-means has the following limitations,\n",
    "\n",
    "*  Requires the number of clusters to be known ahead of time.\n",
    "*  It generally prefers clusters that are approximately the same size.\n",
    "*  Can really only find clusters that are spherical.\n",
    "*  The problem is non-convex and iterative solutions often convergence to local instead of global optimums.\n",
    "\n",
    "Additionally, the algorithm is sensitive to the initial conditions and a number of different random initial conditions are chosen and the one with the best results is chosen as the final model\n",
    "\n",
    "\n",
    "### A side note on k-means++\n",
    "--------\n",
    "The k-means++ is an algorithm for choosing the initial values (or \"seeds\") for the heuristic solution by specifying a procedure to initialize the cluster centroids before proceeding with the standard k-means optimization iterations discussed above. The initialization algorithm has the following steps,\n",
    "\n",
    "* Choose one center uniformly at random among the data points.\n",
    "* For each data point $\\textbf{x}$ not chosen yet, compute $D(\\textbf{x})$, the distance between $\\textbf{x}$ and the nearest center that has already been chosen.\n",
    "* Choose one new data point at random as a new center, using a weighted probability distribution where a point $\\textbf{x}$ is chosen with probability proportional to $D(\\textbf{x})^2$.\n",
    "* Repeat Steps 2 and 3 until $k$ centroids have been chosen.\n",
    "* Now that the initial centers have been chosen, proceed using standard iterative heuristic.\n",
    "\n",
    "With the k-means++ initialization, the algorithm is guaranteed to find a solution that is $\\mathcal{O}(\\log k)$ competitive to the optimal k-means solution. \n",
    "\n",
    "## Writing the k-means algorithm with NumPy <a class=\"anchor\" id=\"third-bullet\"></a>\n",
    "--------------------\n"
   ]
  },
  {
   "cell_type": "code",
   "execution_count": 9,
   "id": "b8d18873-136a-4b92-86f1-595d02a571e7",
   "metadata": {},
   "outputs": [],
   "source": [
    "import numpy as np\n",
    "N = 10000"
   ]
  },
  {
   "cell_type": "code",
   "execution_count": 10,
   "id": "f3d1272e-89f3-45cf-974c-8e4350c96d0e",
   "metadata": {},
   "outputs": [],
   "source": [
    "data1 = np.random.randn(N//3,2) + np.array([5,6])\n",
    "data2 = np.random.randn(N//3,2) + np.array([-5,-6])\n",
    "data3 = np.random.randn(N//3,2) + np.array([-10,3])\n",
    "data = np.concatenate((data1, data2, data3))"
   ]
  },
  {
   "cell_type": "code",
   "execution_count": 11,
   "id": "f0b8659a-b071-45ac-a739-f7ceff941864",
   "metadata": {},
   "outputs": [],
   "source": [
    "import matplotlib.pyplot as plt\n",
    "%matplotlib inline"
   ]
  },
  {
   "cell_type": "code",
   "execution_count": 12,
   "id": "dda9f639-ba86-4098-a764-f4b925a2dd60",
   "metadata": {},
   "outputs": [
    {
     "data": {
      "text/plain": [
       "<matplotlib.collections.PathCollection at 0xffff842ecf70>"
      ]
     },
     "execution_count": 12,
     "metadata": {},
     "output_type": "execute_result"
    },
    {
     "data": {
      "image/png": "[encoded data removed]",
      "text/plain": [
       "<Figure size 432x288 with 1 Axes>"
      ]
     },
     "metadata": {
      "needs_background": "light"
     },
     "output_type": "display_data"
    }
   ],
   "source": [
    "plt.scatter(data[:,0], data[:,1])"
   ]
  },
  {
   "cell_type": "markdown",
   "id": "2fcdb623-db9a-4a1b-9ef0-694f9aae9668",
   "metadata": {},
   "source": [
    "# Writing a Scikit-Learn compatible estimator <a class=\"anchor\" id=\"fourth-bullet\"></a>\n",
    "--------------"
   ]
  },
  {
   "cell_type": "code",
   "execution_count": 56,
   "id": "2ab5903f-dc05-42b0-88f4-a73674af49a9",
   "metadata": {},
   "outputs": [],
   "source": [
    "import numpy as np\n",
    "from sklearn.base import BaseEstimator, ClassifierMixin\n",
    "\n",
    "class KMeans(BaseEstimator, ClassifierMixin):\n",
    "    def __init__(\n",
    "         self, \n",
    "         K: int=2, \n",
    "         max_iter: int=10, \n",
    "         random_state: int = 42,\n",
    "         tol: float = 1e-6\n",
    "        ):\n",
    "        self.K = K\n",
    "        self.max_iter = max_iter\n",
    "        self.centroids = None\n",
    "        self.random_state = random_state\n",
    "        self.tol = tol\n",
    "        np.random.seed(random_state)\n",
    "        \n",
    "    def _init_centroids(self, X: np.array) -> None:\n",
    "        N = X.shape[0]\n",
    "        self.centroids = X[np.random.choice(N,self.K,replace=False)]\n",
    "\n",
    "    def _update_labels(self, X: np.array, labels: np.array) -> None:\n",
    "        for i, point in enumerate(X):\n",
    "            dists = np.linalg.norm(point - self.centroids, axis=1) # sum along the rows\n",
    "            labels[i] = np.argmin(dists)\n",
    "            \n",
    "    def _update_centroids(self, X: np.array, labels: np.array) -> None:\n",
    "        self.centroids = np.stack([\n",
    "                            X[labels==i].mean(axis=0) for i in range(self.K)\n",
    "        ])\n",
    "    \n",
    "    def fit(self, X: np.array, y: np.array=None) -> None:\n",
    "        self._init_centroids(X)\n",
    "        labels = np.empty(X.shape[0])\n",
    "        \n",
    "        for _ in range(self.max_iter):\n",
    "            \n",
    "            # label points belonging to clusters\n",
    "            prev_centroids = self.centroids\n",
    "\n",
    "            # update labels\n",
    "            self._update_labels(X, labels)\n",
    "            \n",
    "            # update centroids\n",
    "            self._update_centroids(X, labels)\n",
    "            if np.linalg.norm(prev_centroids - self.centroids) < self.tol:\n",
    "                break\n",
    "            \n",
    "        return self\n",
    "    \n",
    "    def predict(self, X: np.array) -> np.array:\n",
    "        labels = np.empty(X.shape[0])\n",
    "        self._update_labels(X, labels)\n",
    "        return labels\n",
    "    \n",
    "    def score(self, X: np.array, y: np.array=None) -> np.array:\n",
    "        return \n",
    "        "
   ]
  },
  {
   "cell_type": "code",
   "execution_count": 57,
   "id": "78c36eae-409a-47f7-ba6a-dc671a980991",
   "metadata": {},
   "outputs": [],
   "source": [
    "kmeans = KMeans(3)"
   ]
  },
  {
   "cell_type": "code",
   "execution_count": 58,
   "id": "7485d96c-4983-470b-87dc-663f2b070517",
   "metadata": {},
   "outputs": [],
   "source": [
    "kmeans = kmeans.fit(data)"
   ]
  },
  {
   "cell_type": "code",
   "execution_count": 59,
   "id": "56b050d7-ae63-4a00-9e1e-2788786fcd1d",
   "metadata": {},
   "outputs": [
    {
     "data": {
      "text/plain": [
       "array([[-5.00086566, -6.00220273],\n",
       "       [-9.9896676 ,  2.97496451],\n",
       "       [ 4.96718238,  6.01035722]])"
      ]
     },
     "execution_count": 59,
     "metadata": {},
     "output_type": "execute_result"
    }
   ],
   "source": [
    "kmeans.centroids"
   ]
  },
  {
   "cell_type": "code",
   "execution_count": 60,
   "id": "2d2c81f1-6fde-4b58-b47b-e2c6007dd819",
   "metadata": {},
   "outputs": [
    {
     "data": {
      "text/plain": [
       "array([2., 2.])"
      ]
     },
     "execution_count": 60,
     "metadata": {},
     "output_type": "execute_result"
    }
   ],
   "source": [
    "kmeans.predict(np.array([10.3242, 5.321]))"
   ]
  },
  {
   "cell_type": "code",
   "execution_count": 61,
   "id": "dcc822ed-fa70-436b-8b33-d4dea8af1087",
   "metadata": {},
   "outputs": [
    {
     "data": {
      "image/png": "[encoded data removed]",
      "text/plain": [
       "<Figure size 432x288 with 1 Axes>"
      ]
     },
     "metadata": {
      "needs_background": "light"
     },
     "output_type": "display_data"
    }
   ],
   "source": [
    "plt.figure()\n",
    "plt.scatter(data[:,0], data[:,1])\n",
    "for c in kmeans.centroids:\n",
    "    plt.scatter(*c, color=\"red\")"
   ]
  },
  {
   "cell_type": "code",
   "execution_count": 94,
   "id": "498682a6-d558-4ee9-8f13-c546d35edcfd",
   "metadata": {},
   "outputs": [
    {
     "data": {
      "text/plain": [
       "1.2515465219847048"
      ]
     },
     "execution_count": 94,
     "metadata": {},
     "output_type": "execute_result"
    }
   ],
   "source": [
    "kmeans.score(data)"
   ]
  },
  {
   "cell_type": "code",
   "execution_count": 95,
   "id": "2051b788-2277-425a-8b7d-3a753b1cb8b1",
   "metadata": {},
   "outputs": [],
   "source": []
  },
  {
   "cell_type": "markdown",
   "id": "3e864763-3999-408a-9796-03fd94f21546",
   "metadata": {},
   "source": [
    "# Using The Elbow Method With Grid Search <a class=\"anchor\" id=\"fifth-bullet\"></a>\n",
    "-------------------------\n",
    "\n",
    "We can attempt to compute the appropriate number of clusters *a-posterori* by using the elbow method over various numbers of $k$.\n",
    "\n",
    "\n",
    "The idea behind the elbow method is that as the number of clusters increases the sum of internal variance or weighted sum of squares decreases rapidly because samples are becoming more and more homogeneous.  At a certain point (the elbow point) the clusters contain relative homogeneous samples and the reduction in weighted sum of squares is less significant as the number of clusters increases.  \n"
   ]
  },
  {
   "cell_type": "code",
   "execution_count": 26,
   "id": "879cc65d-f380-4547-b958-892b9eddf7b1",
   "metadata": {},
   "outputs": [],
   "source": [
    "from sklearn import datasets\n",
    "from sklearn.model_selection import GridSearchCV\n",
    "from sklearn.pipeline import Pipeline\n",
    "from sklearn.preprocessing import StandardScaler\n",
    "iris = datasets.load_iris()\n",
    "X = iris.data\n"
   ]
  },
  {
   "cell_type": "code",
   "execution_count": 27,
   "id": "93d2bda4-009b-41e1-888a-c78484e16a66",
   "metadata": {},
   "outputs": [
    {
     "data": {
      "text/plain": [
       "(150, 4)"
      ]
     },
     "execution_count": 27,
     "metadata": {},
     "output_type": "execute_result"
    }
   ],
   "source": [
    "X.shape"
   ]
  },
  {
   "cell_type": "code",
   "execution_count": 29,
   "id": "1bee38fc-3c02-4f2d-8441-eac38f50c9b8",
   "metadata": {},
   "outputs": [],
   "source": [
    "params = {\"K\": [1,2,3,4,5,6]}"
   ]
  },
  {
   "cell_type": "code",
   "execution_count": 30,
   "id": "0bc38c3b-f82d-4600-b634-a47930b6b1ef",
   "metadata": {},
   "outputs": [],
   "source": [
    "grid = GridSearchCV(estimator=KMeans(),\n",
    "                    param_grid=params)"
   ]
  },
  {
   "cell_type": "code",
   "execution_count": 32,
   "id": "a7c4aaba-9f4f-407f-9407-14fc9aeff81c",
   "metadata": {},
   "outputs": [],
   "source": [
    "results = grid.fit(data)"
   ]
  },
  {
   "cell_type": "code",
   "execution_count": 117,
   "id": "86fbc397-0ed4-46c9-81f1-379649e63e2e",
   "metadata": {},
   "outputs": [],
   "source": [
    "scores = [ KMeans(k).fit(X).score(X) for k in range(1,7)]"
   ]
  },
  {
   "cell_type": "code",
   "execution_count": 118,
   "id": "b98e7434-0f5a-49dd-9315-f9016a8ab996",
   "metadata": {},
   "outputs": [
    {
     "data": {
      "text/plain": [
       "[<matplotlib.lines.Line2D at 0x7fc6d4dbf850>]"
      ]
     },
     "execution_count": 118,
     "metadata": {},
     "output_type": "execute_result"
    },
    {
     "data": {
      "image/png": "[encoded data removed]",
      "text/plain": [
       "<Figure size 432x288 with 1 Axes>"
      ]
     },
     "metadata": {
      "needs_background": "light"
     },
     "output_type": "display_data"
    }
   ],
   "source": [
    "plt.plot(range(1,7), scores)"
   ]
  },
  {
   "cell_type": "code",
   "execution_count": null,
   "id": "cb429e85-06cb-40bc-ab01-006f4dfdaffd",
   "metadata": {},
   "outputs": [],
   "source": []
  }
 ],
 "metadata": {
  "kernelspec": {
   "display_name": "Python 3 (ipykernel)",
   "language": "python",
   "name": "python3"
  },
  "language_info": {
   "codemirror_mode": {
    "name": "ipython",
    "version": 3
   },
   "file_extension": ".py",
   "mimetype": "text/x-python",
   "name": "python",
   "nbconvert_exporter": "python",
   "pygments_lexer": "ipython3",
   "version": "3.9.10"
  }
 },
 "nbformat": 4,
 "nbformat_minor": 5
}
