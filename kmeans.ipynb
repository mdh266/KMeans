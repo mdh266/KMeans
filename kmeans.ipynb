{
 "cells": [
  {
   "cell_type": "code",
   "execution_count": 1,
   "id": "f139149c-aef3-4d84-a334-df5b93eacb51",
   "metadata": {},
   "outputs": [],
   "source": [
    "import numpy as np"
   ]
  },
  {
   "cell_type": "code",
   "execution_count": 2,
   "id": "f3d1272e-89f3-45cf-974c-8e4350c96d0e",
   "metadata": {},
   "outputs": [],
   "source": [
    "\n",
    "data1 = np.random.randn(N//3,2) + np.array([5,6])\n",
    "data2 = np.random.randn(N//3,2) + np.array([-5,-6])\n",
    "data3 = np.random.randn(N//3,2) + np.array([-10,3])\n",
    "data = np.concatenate((data1, data2, data3))"
   ]
  },
  {
   "cell_type": "code",
   "execution_count": 3,
   "id": "f0b8659a-b071-45ac-a739-f7ceff941864",
   "metadata": {},
   "outputs": [],
   "source": [
    "import matplotlib.pyplot as plt\n",
    "%matplotlib inline"
   ]
  },
  {
   "cell_type": "code",
   "execution_count": 4,
   "id": "dda9f639-ba86-4098-a764-f4b925a2dd60",
   "metadata": {},
   "outputs": [
    {
     "data": {
      "text/plain": [
       "<matplotlib.collections.PathCollection at 0x7f8230051850>"
      ]
     },
     "execution_count": 4,
     "metadata": {},
     "output_type": "execute_result"
    },
    {
     "data": {
      "image/png": "[encoded data removed]",
      "text/plain": [
       "<Figure size 432x288 with 1 Axes>"
      ]
     },
     "metadata": {
      "needs_background": "light"
     },
     "output_type": "display_data"
    }
   ],
   "source": [
    "plt.scatter(data[:,0], data[:,1])"
   ]
  },
  {
   "cell_type": "code",
   "execution_count": 9,
   "id": "0d6cf383-0556-400c-8acb-62ca0e564386",
   "metadata": {},
   "outputs": [],
   "source": [
    "N = 100000"
   ]
  },
  {
   "cell_type": "code",
   "execution_count": 13,
   "id": "2ab5903f-dc05-42b0-88f4-a73674af49a9",
   "metadata": {},
   "outputs": [],
   "source": [
    "import numpy as np\n",
    "from sklearn.base import BaseEstimator, ClassifierMixin\n",
    "\n",
    "class KMeans(BaseEstimator, ClassifierMixin):\n",
    "    def __init__(\n",
    "         self, \n",
    "         K: int=2, \n",
    "         max_iter: int=10, \n",
    "         random_state: int = 42,\n",
    "         tol: float = 1e-6\n",
    "        ):\n",
    "        self.K = K\n",
    "        self.max_iter = max_iter\n",
    "        self.centroids = None\n",
    "        self.random_state = random_state\n",
    "        self.tol = tol\n",
    "        np.random.seed(random_state)\n",
    "        \n",
    "    def _init_centroids(self, X: np.array) -> None:\n",
    "        N = X.shape[0]\n",
    "        self.centroids = X[np.random.choice(N,self.K,replace=False)]\n",
    "\n",
    "    def _update_labels(self, X: np.array, labels: np.array) -> None:\n",
    "        for i, point in enumerate(X):\n",
    "            dists = np.linalg.norm(point - self.centroids, axis=1) # sum along the rows\n",
    "            labels[i] = np.argmin(dists)\n",
    "            \n",
    "    def _update_centroids(self, X: np.array, labels: np.array) -> None:\n",
    "        self.centroids = np.stack([\n",
    "                            X[labels==i].mean(axis=0) for i in range(self.K)\n",
    "        ])\n",
    "    \n",
    "    def fit(self, X: np.array, y: np.array=None) -> None:\n",
    "        self._init_centroids(X)\n",
    "        labels = np.empty(X.shape[0])\n",
    "        \n",
    "        for _ in range(self.max_iter):\n",
    "            \n",
    "            # label points belonging to clusters\n",
    "            prev_centroids = self.centroids\n",
    "\n",
    "            # update labels\n",
    "            self._update_labels(X, labels)\n",
    "            \n",
    "            # update centroids\n",
    "            self._update_centroids(X, labels)\n",
    "            if np.linalg.norm(prev_centroids - self.centroids) < self.tol:\n",
    "                break\n",
    "            \n",
    "        return self\n",
    "    \n",
    "    def predict(self, X: np.array) -> np.array:\n",
    "        labels = np.empty(X.shape[0])\n",
    "        for i, point in enumerate(X):\n",
    "            dist = np.linalg.norm(X - self.centroids, axis=1)\n",
    "            label[i] =  np.argmin(dist)\n",
    "        return label\n",
    "    \n",
    "    def score(self, X: np.array, y: np.array=None) -> np.array:\n",
    "        "
   ]
  },
  {
   "cell_type": "code",
   "execution_count": 11,
   "id": "78c36eae-409a-47f7-ba6a-dc671a980991",
   "metadata": {},
   "outputs": [],
   "source": [
    "kmeans = KMeans(3)"
   ]
  },
  {
   "cell_type": "code",
   "execution_count": 12,
   "id": "7485d96c-4983-470b-87dc-663f2b070517",
   "metadata": {},
   "outputs": [
    {
     "name": "stdout",
     "output_type": "stream",
     "text": [
      "16.63902997970581\n"
     ]
    }
   ],
   "source": [
    "from time import time\n",
    "t1 = time()\n",
    "kmeans = kmeans.fit(data)\n",
    "t2 = time()\n",
    "print(t2-t1)"
   ]
  },
  {
   "cell_type": "code",
   "execution_count": 135,
   "id": "56b050d7-ae63-4a00-9e1e-2788786fcd1d",
   "metadata": {},
   "outputs": [
    {
     "data": {
      "text/plain": [
       "array([[-9.98819682,  2.97906817],\n",
       "       [ 5.01371937,  6.02544317],\n",
       "       [-5.0045175 , -6.01461851]])"
      ]
     },
     "execution_count": 135,
     "metadata": {},
     "output_type": "execute_result"
    }
   ],
   "source": [
    "kmeans.centroids"
   ]
  },
  {
   "cell_type": "code",
   "execution_count": 128,
   "id": "dcc822ed-fa70-436b-8b33-d4dea8af1087",
   "metadata": {},
   "outputs": [
    {
     "data": {
      "image/png": "[encoded data removed]",
      "text/plain": [
       "<Figure size 432x288 with 1 Axes>"
      ]
     },
     "metadata": {
      "needs_background": "light"
     },
     "output_type": "display_data"
    }
   ],
   "source": [
    "plt.figure()\n",
    "plt.scatter(data[:,0], data[:,1])\n",
    "for c in kmeans.centroids:\n",
    "    plt.scatter(*c, color=\"red\")"
   ]
  },
  {
   "cell_type": "code",
   "execution_count": 94,
   "id": "498682a6-d558-4ee9-8f13-c546d35edcfd",
   "metadata": {},
   "outputs": [
    {
     "data": {
      "text/plain": [
       "1.2515465219847048"
      ]
     },
     "execution_count": 94,
     "metadata": {},
     "output_type": "execute_result"
    }
   ],
   "source": [
    "kmeans.score(data)"
   ]
  },
  {
   "cell_type": "code",
   "execution_count": 95,
   "id": "2051b788-2277-425a-8b7d-3a753b1cb8b1",
   "metadata": {},
   "outputs": [],
   "source": [
    "from sklearn.model_selection import GridSearchCV"
   ]
  },
  {
   "cell_type": "code",
   "execution_count": 115,
   "id": "879cc65d-f380-4547-b958-892b9eddf7b1",
   "metadata": {},
   "outputs": [],
   "source": [
    "from sklearn import datasets\n",
    "iris = datasets.load_iris()\n",
    "X = iris.data"
   ]
  },
  {
   "cell_type": "code",
   "execution_count": 119,
   "id": "93d2bda4-009b-41e1-888a-c78484e16a66",
   "metadata": {},
   "outputs": [
    {
     "data": {
      "text/plain": [
       "(150, 4)"
      ]
     },
     "execution_count": 119,
     "metadata": {},
     "output_type": "execute_result"
    }
   ],
   "source": [
    "X.shape"
   ]
  },
  {
   "cell_type": "code",
   "execution_count": 96,
   "id": "1bee38fc-3c02-4f2d-8441-eac38f50c9b8",
   "metadata": {},
   "outputs": [],
   "source": [
    "params = {\"K\": [1,2,3,4,5,6]}"
   ]
  },
  {
   "cell_type": "code",
   "execution_count": 97,
   "id": "0bc38c3b-f82d-4600-b634-a47930b6b1ef",
   "metadata": {},
   "outputs": [],
   "source": [
    "grid = GridSearchCV(estimator=KMeans(),\n",
    "                    param_grid=params)"
   ]
  },
  {
   "cell_type": "code",
   "execution_count": 98,
   "id": "a7c4aaba-9f4f-407f-9407-14fc9aeff81c",
   "metadata": {},
   "outputs": [],
   "source": [
    "results = grid.fit(data)"
   ]
  },
  {
   "cell_type": "code",
   "execution_count": 117,
   "id": "86fbc397-0ed4-46c9-81f1-379649e63e2e",
   "metadata": {},
   "outputs": [],
   "source": [
    "scores = [ KMeans(k).fit(X).score(X) for k in range(1,7)]"
   ]
  },
  {
   "cell_type": "code",
   "execution_count": 118,
   "id": "b98e7434-0f5a-49dd-9315-f9016a8ab996",
   "metadata": {},
   "outputs": [
    {
     "data": {
      "text/plain": [
       "[<matplotlib.lines.Line2D at 0x7fc6d4dbf850>]"
      ]
     },
     "execution_count": 118,
     "metadata": {},
     "output_type": "execute_result"
    },
    {
     "data": {
      "image/png": "[encoded data removed]",
      "text/plain": [
       "<Figure size 432x288 with 1 Axes>"
      ]
     },
     "metadata": {
      "needs_background": "light"
     },
     "output_type": "display_data"
    }
   ],
   "source": [
    "plt.plot(range(1,7), scores)"
   ]
  },
  {
   "cell_type": "code",
   "execution_count": null,
   "id": "cb429e85-06cb-40bc-ab01-006f4dfdaffd",
   "metadata": {},
   "outputs": [],
   "source": []
  }
 ],
 "metadata": {
  "kernelspec": {
   "display_name": "Python 3 (ipykernel)",
   "language": "python",
   "name": "python3"
  },
  "language_info": {
   "codemirror_mode": {
    "name": "ipython",
    "version": 3
   },
   "file_extension": ".py",
   "mimetype": "text/x-python",
   "name": "python",
   "nbconvert_exporter": "python",
   "pygments_lexer": "ipython3",
   "version": "3.9.7"
  }
 },
 "nbformat": 4,
 "nbformat_minor": 5
}
