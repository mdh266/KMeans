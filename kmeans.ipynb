{
 "cells": [
  {
   "cell_type": "markdown",
   "id": "93682e60-acbb-4f99-884c-4e354ff205a2",
   "metadata": {
    "tags": []
   },
   "source": [
    "# Writing A Scikit Learn Compatible Clustering Algorithm\n",
    "---------------------\n",
    "\n",
    "__[1. Introduction](#first-bullet)__\n",
    "\n",
    "__[2. The k-means clustering alogorithm](#second-bullet)__\n",
    "\n",
    "__[3. Writing the k-means algorithm with NumPy](#third-bullet)__\n",
    "\n",
    "__[4. Writing a Scikit-Learn compatible estimator](#fourth-bullet)__\n",
    "\n",
    "__[5. Using the elbow method with GridSearchCV](#fifth-bullet)__\n",
    "\n",
    "\n",
    "## Introduction <a class=\"anchor\" id=\"first-bullet\"></a>\n",
    "-------------\n",
    "\n",
    "Clustering algorithms and unsupervised learning methods have been gaining popularity recently. This is partly because the amount of data being generated has increased exponentially, but also because labels for this data is often still hard to come by. Labeling data can be time consuming and requires human effort which can be expensive. Unsupervised learning methods are machine learning methods that can be used to gleam information from unlabeled data. Clustering algorithms specifically take unlabeled points within a dataset and try to group them into \"clusters\". Within clusters datapoints are very \"similar\" (in some sense that will be discussed later) and datapoints between cluster are very \"disimilar\".\n",
    "\n",
    "I have mixed feelings on clustering. It's often hard to quantify how well a model is performing when you dont have labels to define what is correct or not. On the other hand without labeled data, they are often all we've got! Despite being hard to quantify their performance clustering methods can be helpful for [Semi-Supervised Learning](https://en.wikipedia.org/wiki/Semi-supervised_learning) where there is a small amount of labeled data and a large amount of unlabeled data.\n",
    "\n",
    "In this post, I will go over how to write a [k-means clustering](https://en.wikipedia.org/wiki/K-means_clustering) algorithm from scratch using [NumPy](https://numpy.org/). The algorithm will be explained in the next section and while seamingly simple, it can be tricky to implement efficiently! As an added bonus, I will go over how to implement the algorithm in a way that is [Scikit-Learn](https://scikit-learn.org/stable/) compatible so that we can use Scikit-Learn's framework including [Pipelines](https://scikit-learn.org/stable/modules/generated/sklearn.pipeline.Pipeline.html) and [GridSearchCV](https://scikit-learn.org/stable/modules/generated/sklearn.model_selection.GridSearchCV.html) for finding the best number of clusters.\n",
    "\n",
    "Let's start out by talking about the technical details of the k-means clustering algorithm.\n",
    "\n",
    "## The k-means clustering alogorithm <a class=\"anchor\" id=\"second-bullet\"></a>\n",
    "--------------------\n",
    "\n",
    "The k-means clustering algorithm is a means of partitioning a data $\\textbf{X} \\in \\mathbb{R}^{n \\times p}$ into $k$ clusters that assumes. It specifically assumes\n",
    "\n",
    "* explicitly that the number of clusters can be defined *a-priori*.\n",
    "\n",
    "* implicitly that all points in the dataset belong to clusters that can be well-separated\n",
    "\n",
    "The main idea of the algorithm is to find a centroid for each of the $k$ clusters, $\\boldsymbol \\mu_{k} \\in \\mathbb{R}^{p}$, that represents the \"center\" of the cluster. The algorithm then assign points within a dataset to the cluster that it is closest to. This assignement requires us to define a metric $d(x_{1}, x_{2})$ to tell the to tell how close two points are within our feature space. Often times the distance function $d$ is taken to the [euclidian distance](https://en.wikipedia.org/wiki/Euclidean_distance).  \n",
    "\n",
    "The k-means clustering algorithm tries to form clusters which contain points which are similar with respect to the distance metric $d$. It turns out this is equivalent to minimizing the variance within each cluster. Let the set of all clusters be $\\mathbf{S} = \\{S_1, \\, \\ldots, \\, S_k\\}$, then the cost function is defined as,\n",
    "\n",
    "\\begin{align}\n",
    "\\mathcal{J}(k) \\; &= \\; \\sum_{j=1}^k |S_j| \\operatorname{Var} S_j \\\\\n",
    "&= \\; \\sum_{i=1}^{n} \\sum_{j=1}^{k} r_{i,j} \\,  \\Vert \\textbf{x}_i - \\boldsymbol \\mu_j \\Vert^{2}\n",
    "\\end{align}\n",
    "\n",
    "Where for each $\\textbf{x}_i \\in \\mathbb{R}^{p}$ we have the definition of the indicator function,\n",
    "\n",
    "$$ r_{i,k} \\; = \\; \\left\\{  \\begin{array}{cc}\n",
    "1, & \\text{if} \\;  k = \n",
    "\\underset{j} {\\operatorname{arg\\,min}} \\Vert \\textbf{x}_j - \\boldsymbol \\mu_j \\Vert^{2}  \\\\\n",
    "0, & \\text{otherwise}\n",
    "\\end{array} \\right.\n",
    "$$\n",
    "\n",
    "We can see that the sum, $|S_k| \\; = \\; \\sum_{i=1}^n r_{i,k}$ is the number of points assigned to each cluster! \n",
    "\n",
    "Minimizing the cost function $\\mathcal{J}(k)$ is an NP-hard problem and a heuristic is usually applied to approximate the optimal centroids. This heuristic is a greedy iterative method that follows the steps,\n",
    "\n",
    "1. Intialize the centroids by randomly assigning $\\boldsymbol \\mu_k$ to one of the datapoints\n",
    "\n",
    "Then while not coveraged,\n",
    "\n",
    "2. Assign each $x_{i}$ to a cluster, i.e. find $r_{i,k}$\n",
    "3. UpdatE $\\boldsymbol \\mu_{k}$ by taking them to be the mean of all datapoints in the cluster, \\begin{align}\n",
    "\\boldsymbol \\mu_k \\;& = \\; \\frac{\\sum_{i=1}^n r_{i,k} \\textbf{x}_i}{\\sum_{i=1}^n r_{i,k}} \\\\\n",
    "&= \\underset{x \\in S_k} {\\operatorname{avg}}(x)\n",
    "\\end{align}\n",
    "\n",
    "Convergence is usually taken to be that the distance between centroid values after each iteration being less than some predefined tolerance. Often times one can also set a maximum number iterations to be no larger than prefined number.\n",
    "\n",
    "This heuristic method is used to train the k-means model and attempts to find groupings of the data that minimizes the cost function which is the weighted sum of the squares errors of the clusters. Given that is the cost function is a sum of square erros, *it is sensitive to outliers* just like linear regression. In addition the k-means has the following limitations,\n",
    "\n",
    "*  Requires the number of clusters to be known ahead of time.\n",
    "*  It generally prefers clusters that are approximately the same size.\n",
    "*  Can really only find clusters that are spherical.\n",
    "*  The problem is non-convex and iterative solutions often convergence to local instead of global optimums.\n",
    "\n",
    "Additionally, the algorithm is sensitive to the initial conditions and a number of different random initial conditions are chosen and the one with the best results is chosen as the final model\n",
    "\n",
    "\n",
    "### A side note on k-means++\n",
    "--------\n",
    "The k-means++ is an algorithm for choosing the initial values (or \"seeds\") for the heuristic solution by specifying a procedure to initialize the cluster centroids before proceeding with the standard k-means optimization iterations discussed above. The initialization algorithm has the following steps,\n",
    "\n",
    "* Choose one center uniformly at random among the data points.\n",
    "* For each data point $\\textbf{x}$ not chosen yet, compute $D(\\textbf{x})$, the distance between $\\textbf{x}$ and the nearest center that has already been chosen.\n",
    "* Choose one new data point at random as a new center, using a weighted probability distribution where a point $\\textbf{x}$ is chosen with probability proportional to $D(\\textbf{x})^2$.\n",
    "* Repeat Steps 2 and 3 until $k$ centroids have been chosen.\n",
    "* Now that the initial centers have been chosen, proceed using standard iterative heuristic.\n",
    "\n",
    "With the k-means++ initialization, the algorithm is guaranteed to find a solution that is $\\mathcal{O}(\\log k)$ competitive to the optimal k-means solution. \n",
    "\n",
    "## Writing the k-means algorithm with NumPy <a class=\"anchor\" id=\"third-bullet\"></a>\n",
    "--------------------\n",
    "\n",
    "First lets start out by creatinga a simple dataset in 2 dimensions.  We can use 10,000 points belonging to 3 clusters as shown below:"
   ]
  },
  {
   "cell_type": "code",
   "execution_count": 50,
   "id": "b8d18873-136a-4b92-86f1-595d02a571e7",
   "metadata": {},
   "outputs": [],
   "source": [
    "import numpy as np\n",
    "N = 10000\n",
    "k = 3\n",
    "\n",
    "data1 = np.random.randn(N//3,2) + np.array([5,6])\n",
    "data2 = np.random.randn(N//3,2) + np.array([-5,-6])\n",
    "data3 = np.random.randn(N//3,2) + np.array([-10,3])\n",
    "data = np.concatenate((data1, data2, data3))"
   ]
  },
  {
   "cell_type": "markdown",
   "id": "16e1912d-ad84-4ecf-99ed-b2742f36951f",
   "metadata": {},
   "source": [
    "Now we lets plot the points,"
   ]
  },
  {
   "cell_type": "code",
   "execution_count": 51,
   "id": "f0b8659a-b071-45ac-a739-f7ceff941864",
   "metadata": {},
   "outputs": [
    {
     "data": {
      "text/plain": [
       "<matplotlib.collections.PathCollection at 0x1205f9850>"
      ]
     },
     "execution_count": 51,
     "metadata": {},
     "output_type": "execute_result"
    },
    {
     "data": {
      "image/png": "[encoded data removed]",
      "text/plain": [
       "<Figure size 432x288 with 1 Axes>"
      ]
     },
     "metadata": {
      "needs_background": "light"
     },
     "output_type": "display_data"
    }
   ],
   "source": [
    "import matplotlib.pyplot as plt\n",
    "%matplotlib inline\n",
    "\n",
    "plt.scatter(data[:,0], data[:,1])"
   ]
  },
  {
   "cell_type": "markdown",
   "id": "dd59b954-35b2-4619-af39-ab1960aece73",
   "metadata": {},
   "source": [
    "### Initializing The Centroids\n",
    "----------------------\n",
    "\n",
    "To initialize the centroids we need to come up with a function that takes a dataset of N points and chooses k of them to be the centroids. This is a naive initialization process compared to k-means++, but for our purposes it will do. We define this function using the [np.random.choice](https://numpy.org/doc/stable/reference/random/generated/numpy.random.choice.html) function to get the entries of the k different points as shown below "
   ]
  },
  {
   "cell_type": "code",
   "execution_count": 52,
   "id": "9f1f9787-1aa7-49de-b73e-ad2e1cdd9caf",
   "metadata": {},
   "outputs": [
    {
     "data": {
      "text/plain": [
       "array([1535, 8807, 8907])"
      ]
     },
     "execution_count": 52,
     "metadata": {},
     "output_type": "execute_result"
    }
   ],
   "source": [
    "np.random.choice(N, 3,replace=False)"
   ]
  },
  {
   "cell_type": "markdown",
   "id": "cae8adb0-f989-41f2-9aad-67e938e5feeb",
   "metadata": {},
   "source": [
    "We can then write a function to initialize these centroids,"
   ]
  },
  {
   "cell_type": "code",
   "execution_count": 53,
   "id": "685c09ac-e071-4846-9623-a15284f57660",
   "metadata": {},
   "outputs": [],
   "source": [
    "def init_centroids(X: np.array, K: int) -> None:\n",
    "    N = X.shape[0]\n",
    "    return X[np.random.choice(N, K,replace=False)]"
   ]
  },
  {
   "cell_type": "code",
   "execution_count": 54,
   "id": "d6a9cabc-7628-4a1a-980c-4e20b3e2681e",
   "metadata": {},
   "outputs": [],
   "source": [
    "centroids = init_centroids(data, 3)"
   ]
  },
  {
   "cell_type": "markdown",
   "id": "072b800d-834a-4b10-a156-485185f64132",
   "metadata": {},
   "source": [
    "The thre initial points for the centroids are,"
   ]
  },
  {
   "cell_type": "code",
   "execution_count": 55,
   "id": "5e367ea1-4d35-4b66-a651-9cab14a12bf4",
   "metadata": {},
   "outputs": [
    {
     "data": {
      "text/plain": [
       "array([[-10.60716405,   1.64885059],\n",
       "       [  4.73252672,   6.59442404],\n",
       "       [  5.62350205,   7.40030529]])"
      ]
     },
     "execution_count": 55,
     "metadata": {},
     "output_type": "execute_result"
    }
   ],
   "source": [
    "centroids"
   ]
  },
  {
   "cell_type": "markdown",
   "id": "f050802d-2d34-4dc0-bec6-22db48f4162f",
   "metadata": {},
   "source": [
    "We can plot these to see where they are with respsect to the rest of the points,"
   ]
  },
  {
   "cell_type": "code",
   "execution_count": 56,
   "id": "6be087fd-cdaa-4e1f-8fec-4787ceee636b",
   "metadata": {},
   "outputs": [
    {
     "data": {
      "image/png": "[encoded data removed]",
      "text/plain": [
       "<Figure size 432x288 with 1 Axes>"
      ]
     },
     "metadata": {
      "needs_background": "light"
     },
     "output_type": "display_data"
    }
   ],
   "source": [
    "plt.figure()\n",
    "plt.scatter(data[:,0], data[:,1])\n",
    "for c in centroids:\n",
    "    plt.scatter(*c, color=\"red\")"
   ]
  },
  {
   "cell_type": "markdown",
   "id": "c5194c4c-e52b-4226-a6f9-4112ce966a97",
   "metadata": {},
   "source": [
    "Two of the centroids are look like they are in the same cluster (note due to random seeding you may not get the results). Now lets write a function that assigns each of the points in the dataset to a cluster by finding cluster that each point is closest to.\n",
    "\n",
    "### Assign Each Point To A Cluster\n",
    "----------------------\n",
    "\n",
    "Let's take an example with the first data point and assign it to the value point"
   ]
  },
  {
   "cell_type": "code",
   "execution_count": 57,
   "id": "b5cef5ff-73cf-48af-a497-04e940cb8d88",
   "metadata": {},
   "outputs": [
    {
     "data": {
      "text/plain": [
       "array([5.24557236, 5.95434058])"
      ]
     },
     "execution_count": 57,
     "metadata": {},
     "output_type": "execute_result"
    }
   ],
   "source": [
    "point = data[0]\n",
    "point"
   ]
  },
  {
   "cell_type": "markdown",
   "id": "19d8e7b2-df7c-4f4a-986c-149de4cf65ff",
   "metadata": {},
   "source": [
    "We can remind ourselves what the centroids look like"
   ]
  },
  {
   "cell_type": "code",
   "execution_count": 58,
   "id": "ebcc6293-cf55-4c90-a487-0ec68e76b245",
   "metadata": {},
   "outputs": [
    {
     "data": {
      "text/plain": [
       "array([[-10.60716405,   1.64885059],\n",
       "       [  4.73252672,   6.59442404],\n",
       "       [  5.62350205,   7.40030529]])"
      ]
     },
     "execution_count": 58,
     "metadata": {},
     "output_type": "execute_result"
    }
   ],
   "source": [
    "centroids"
   ]
  },
  {
   "cell_type": "markdown",
   "id": "caf32fc1-023b-4856-af92-76959e27c598",
   "metadata": {},
   "source": [
    "Now we want to find the distance from the point to each of the centroids. We will use th concept of [broadcasting](https://numpy.org/doc/stable/user/basics.broadcasting.html) in NumPy. We can see the shape `point` and `centroids`,"
   ]
  },
  {
   "cell_type": "code",
   "execution_count": 59,
   "id": "abecb5aa-fda1-4a9a-b516-f69dacfbd533",
   "metadata": {},
   "outputs": [
    {
     "name": "stdout",
     "output_type": "stream",
     "text": [
      "point.shape = (2,)\n",
      "centroids.shape = (3, 2)\n"
     ]
    }
   ],
   "source": [
    "print(f\"point.shape = {point.shape}\")\n",
    "print(f\"centroids.shape = {centroids.shape}\")"
   ]
  },
  {
   "cell_type": "markdown",
   "id": "76a19d1f-82de-47a8-9e26-29d6848c98bb",
   "metadata": {},
   "source": [
    "Now subtracting the two using broadcasting results in"
   ]
  },
  {
   "cell_type": "code",
   "execution_count": 60,
   "id": "94465bca-cdad-44b1-82ec-4172a97f24fd",
   "metadata": {},
   "outputs": [
    {
     "data": {
      "text/plain": [
       "array([[15.85273641,  4.30548999],\n",
       "       [ 0.51304563, -0.64008346],\n",
       "       [-0.37792969, -1.44596471]])"
      ]
     },
     "execution_count": 60,
     "metadata": {},
     "output_type": "execute_result"
    }
   ],
   "source": [
    "point - centroids"
   ]
  },
  {
   "cell_type": "markdown",
   "id": "73f83145-b444-49e8-88d5-2a688f12ba17",
   "metadata": {},
   "source": [
    "We broadcasted the point from a (2,) shape to a (3,2) and then performed elementwise subtraction.\n",
    "\n",
    "Now we can calculate the distance by using the [norm](https://numpy.org/doc/stable/reference/generated/numpy.linalg.norm.html) from NumPy's numerical linear alebgra module. The use for the norm allows us to use data from arbitrary dimensions! "
   ]
  },
  {
   "cell_type": "code",
   "execution_count": 61,
   "id": "c2b35d5b-4f84-466c-9fc4-4f27a74bad7a",
   "metadata": {},
   "outputs": [
    {
     "data": {
      "text/plain": [
       "array([16.42700507,  0.82031863,  1.49453833])"
      ]
     },
     "execution_count": 61,
     "metadata": {},
     "output_type": "execute_result"
    }
   ],
   "source": [
    "dists = np.linalg.norm(point - centroids, axis=1)\n",
    "dists "
   ]
  },
  {
   "cell_type": "markdown",
   "id": "676ec0ed-60b5-4ea3-ba81-15a836e3b95c",
   "metadata": {},
   "source": [
    "Now we assign the point to the cluster which is closes usign the [argmin](https://numpy.org/doc/stable/reference/generated/numpy.argmin.html) function from NumPy."
   ]
  },
  {
   "cell_type": "code",
   "execution_count": 62,
   "id": "50bed653-ec44-4e8e-8517-6e0652b74d1c",
   "metadata": {},
   "outputs": [
    {
     "data": {
      "text/plain": [
       "1"
      ]
     },
     "execution_count": 62,
     "metadata": {},
     "output_type": "execute_result"
    }
   ],
   "source": [
    "np.argmin(dists)"
   ]
  },
  {
   "cell_type": "markdown",
   "id": "88a379ae-ac16-4678-925f-dc63fca47736",
   "metadata": {},
   "source": [
    "This means point is closest to cluster 3! We can see this below,"
   ]
  },
  {
   "cell_type": "code",
   "execution_count": 63,
   "id": "a7079c4c-7798-4cda-b185-b83159ae3d37",
   "metadata": {},
   "outputs": [
    {
     "data": {
      "text/plain": [
       "<matplotlib.collections.PathCollection at 0x120366dc0>"
      ]
     },
     "execution_count": 63,
     "metadata": {},
     "output_type": "execute_result"
    },
    {
     "data": {
      "image/png": "[encoded data removed]",
      "text/plain": [
       "<Figure size 432x288 with 1 Axes>"
      ]
     },
     "metadata": {
      "needs_background": "light"
     },
     "output_type": "display_data"
    }
   ],
   "source": [
    "plt.figure()\n",
    "plt.scatter(data[:,0], data[:,1])\n",
    "for c in centroids:\n",
    "    plt.scatter(*c, color=\"red\")\n",
    "\n",
    "plt.scatter(*point, color='purple')"
   ]
  },
  {
   "cell_type": "markdown",
   "id": "7f7529dc-f26c-44dc-af3c-11669a5102b5",
   "metadata": {},
   "source": [
    "Now we want to do this for every point in the dataset, we create a new vector called `labels` that is the cluster each point belows to. We use the NumPy empty function to assign an empty array of size N."
   ]
  },
  {
   "cell_type": "code",
   "execution_count": 64,
   "id": "90a2c2d6-887a-45ca-a538-ed655e213aa3",
   "metadata": {},
   "outputs": [],
   "source": [
    "labels = np.empty(N)"
   ]
  },
  {
   "cell_type": "code",
   "execution_count": 65,
   "id": "970778f6-2070-4fa8-b5a0-d188980896c4",
   "metadata": {},
   "outputs": [
    {
     "data": {
      "text/plain": [
       "array([  5.24557236,   5.67065092,   6.85416932, ..., -11.27906143,\n",
       "        -9.38818106,   0.        ])"
      ]
     },
     "execution_count": 65,
     "metadata": {},
     "output_type": "execute_result"
    }
   ],
   "source": [
    "labels"
   ]
  },
  {
   "cell_type": "markdown",
   "id": "571f46e4-323b-48d3-8f1c-cf0a4fe3c43d",
   "metadata": {},
   "source": [
    "Now we can write function to assign all the points to the cluster it is closest to. We do this for entire dataset using the [enumerate](https://www.geeksforgeeks.org/enumerate-in-python/) function to keep track of the index in the label array while looping over each point in the dataset:"
   ]
  },
  {
   "cell_type": "code",
   "execution_count": 66,
   "id": "8c14c559-3edb-40b7-9f95-223fbd4b0f8d",
   "metadata": {},
   "outputs": [],
   "source": [
    "def update_labels(X: np.array, labels: np.array) -> None:\n",
    "    for i, point in enumerate(X):\n",
    "        dists = np.linalg.norm(point - centroids, axis=1) # norm along the rows\n",
    "        labels[i] = np.argmin(dists)"
   ]
  },
  {
   "cell_type": "markdown",
   "id": "fb8e3a81-bca3-4e83-a0ef-2cf0fa2198f5",
   "metadata": {},
   "source": [
    "Note this is function edits the labels array by reference instead of returning a new array."
   ]
  },
  {
   "cell_type": "code",
   "execution_count": 67,
   "id": "a3ed5828-b92e-4038-9cbf-e55231dea5cd",
   "metadata": {},
   "outputs": [
    {
     "data": {
      "text/plain": [
       "array([1., 2., 2., ..., 0., 0., 0.])"
      ]
     },
     "execution_count": 67,
     "metadata": {},
     "output_type": "execute_result"
    }
   ],
   "source": [
    "update_labels(data, labels)\n",
    "labels"
   ]
  },
  {
   "cell_type": "markdown",
   "id": "3c9b4d88-4049-4a76-a07e-9136c84fa4d0",
   "metadata": {},
   "source": [
    "### Updating The Centroids\n",
    "----------------------\n",
    "\n",
    "The last function we need to write is a function that will update the centroids. Now that we have all the "
   ]
  },
  {
   "cell_type": "code",
   "execution_count": 71,
   "id": "417638b1-396b-4d8f-a233-0343c86f26e7",
   "metadata": {},
   "outputs": [
    {
     "data": {
      "text/plain": [
       "array([False, False, False, ...,  True,  True,  True])"
      ]
     },
     "execution_count": 71,
     "metadata": {},
     "output_type": "execute_result"
    }
   ],
   "source": [
    "labels==0"
   ]
  },
  {
   "cell_type": "markdown",
   "id": "2fcdb623-db9a-4a1b-9ef0-694f9aae9668",
   "metadata": {},
   "source": [
    "# Writing a Scikit-Learn compatible estimator <a class=\"anchor\" id=\"fourth-bullet\"></a>\n",
    "--------------"
   ]
  },
  {
   "cell_type": "code",
   "execution_count": 56,
   "id": "2ab5903f-dc05-42b0-88f4-a73674af49a9",
   "metadata": {},
   "outputs": [],
   "source": [
    "import numpy as np\n",
    "from sklearn.base import BaseEstimator, ClassifierMixin\n",
    "\n",
    "class KMeans(BaseEstimator, ClassifierMixin):\n",
    "    def __init__(\n",
    "         self, \n",
    "         K: int=2, \n",
    "         max_iter: int=10, \n",
    "         random_state: int = 42,\n",
    "         tol: float = 1e-6\n",
    "        ):\n",
    "        self.K = K\n",
    "        self.max_iter = max_iter\n",
    "        self.centroids = None\n",
    "        self.random_state = random_state\n",
    "        self.tol = tol\n",
    "        np.random.seed(random_state)\n",
    "        \n",
    "    def _init_centroids(self, X: np.array) -> None:\n",
    "        N = X.shape[0]\n",
    "        self.centroids = X[np.random.choice(N,self.K,replace=False)]\n",
    "\n",
    "    def _update_labels(self, X: np.array, labels: np.array) -> None:\n",
    "        for i, point in enumerate(X):\n",
    "            dists = np.linalg.norm(point - self.centroids, axis=1) # sum along the rows\n",
    "            labels[i] = np.argmin(dists)\n",
    "            \n",
    "    def _update_centroids(self, X: np.array, labels: np.array) -> None:\n",
    "        self.centroids = np.stack([\n",
    "                            X[labels==i].mean(axis=0) for i in range(self.K)\n",
    "        ])\n",
    "    \n",
    "    def fit(self, X: np.array, y: np.array=None) -> None:\n",
    "        self._init_centroids(X)\n",
    "        labels = np.empty(X.shape[0])\n",
    "        \n",
    "        for _ in range(self.max_iter):\n",
    "            \n",
    "            # label points belonging to clusters\n",
    "            prev_centroids = self.centroids\n",
    "\n",
    "            # update labels\n",
    "            self._update_labels(X, labels)\n",
    "            \n",
    "            # update centroids\n",
    "            self._update_centroids(X, labels)\n",
    "            if np.linalg.norm(prev_centroids - self.centroids) < self.tol:\n",
    "                break\n",
    "            \n",
    "        return self\n",
    "    \n",
    "    def predict(self, X: np.array) -> np.array:\n",
    "        labels = np.empty(X.shape[0])\n",
    "        self._update_labels(X, labels)\n",
    "        return labels\n",
    "    \n",
    "    def score(self, X: np.array, y: np.array=None) -> np.array:\n",
    "        return \n",
    "        "
   ]
  },
  {
   "cell_type": "code",
   "execution_count": 57,
   "id": "78c36eae-409a-47f7-ba6a-dc671a980991",
   "metadata": {},
   "outputs": [],
   "source": [
    "kmeans = KMeans(3)"
   ]
  },
  {
   "cell_type": "code",
   "execution_count": 58,
   "id": "7485d96c-4983-470b-87dc-663f2b070517",
   "metadata": {},
   "outputs": [],
   "source": [
    "kmeans = kmeans.fit(data)"
   ]
  },
  {
   "cell_type": "code",
   "execution_count": 59,
   "id": "56b050d7-ae63-4a00-9e1e-2788786fcd1d",
   "metadata": {},
   "outputs": [
    {
     "data": {
      "text/plain": [
       "array([[-5.00086566, -6.00220273],\n",
       "       [-9.9896676 ,  2.97496451],\n",
       "       [ 4.96718238,  6.01035722]])"
      ]
     },
     "execution_count": 59,
     "metadata": {},
     "output_type": "execute_result"
    }
   ],
   "source": [
    "kmeans.centroids"
   ]
  },
  {
   "cell_type": "code",
   "execution_count": 60,
   "id": "2d2c81f1-6fde-4b58-b47b-e2c6007dd819",
   "metadata": {},
   "outputs": [
    {
     "data": {
      "text/plain": [
       "array([2., 2.])"
      ]
     },
     "execution_count": 60,
     "metadata": {},
     "output_type": "execute_result"
    }
   ],
   "source": [
    "kmeans.predict(np.array([10.3242, 5.321]))"
   ]
  },
  {
   "cell_type": "code",
   "execution_count": 61,
   "id": "dcc822ed-fa70-436b-8b33-d4dea8af1087",
   "metadata": {},
   "outputs": [
    {
     "data": {
      "image/png": "[encoded data removed]",
      "text/plain": [
       "<Figure size 432x288 with 1 Axes>"
      ]
     },
     "metadata": {
      "needs_background": "light"
     },
     "output_type": "display_data"
    }
   ],
   "source": [
    "plt.figure()\n",
    "plt.scatter(data[:,0], data[:,1])\n",
    "for c in kmeans.centroids:\n",
    "    plt.scatter(*c, color=\"red\")"
   ]
  },
  {
   "cell_type": "code",
   "execution_count": 94,
   "id": "498682a6-d558-4ee9-8f13-c546d35edcfd",
   "metadata": {},
   "outputs": [
    {
     "data": {
      "text/plain": [
       "1.2515465219847048"
      ]
     },
     "execution_count": 94,
     "metadata": {},
     "output_type": "execute_result"
    }
   ],
   "source": [
    "kmeans.score(data)"
   ]
  },
  {
   "cell_type": "code",
   "execution_count": 95,
   "id": "2051b788-2277-425a-8b7d-3a753b1cb8b1",
   "metadata": {},
   "outputs": [],
   "source": []
  },
  {
   "cell_type": "markdown",
   "id": "3e864763-3999-408a-9796-03fd94f21546",
   "metadata": {},
   "source": [
    "# Using The Elbow Method With Grid Search <a class=\"anchor\" id=\"fifth-bullet\"></a>\n",
    "-------------------------\n",
    "\n",
    "We can attempt to compute the appropriate number of clusters *a-posterori* by using the elbow method over various numbers of $k$.\n",
    "\n",
    "\n",
    "The idea behind the elbow method is that as the number of clusters increases the sum of internal variance or weighted sum of squares decreases rapidly because samples are becoming more and more homogeneous.  At a certain point (the elbow point) the clusters contain relative homogeneous samples and the reduction in weighted sum of squares is less significant as the number of clusters increases.  \n"
   ]
  },
  {
   "cell_type": "code",
   "execution_count": 26,
   "id": "879cc65d-f380-4547-b958-892b9eddf7b1",
   "metadata": {},
   "outputs": [],
   "source": [
    "from sklearn import datasets\n",
    "from sklearn.model_selection import GridSearchCV\n",
    "from sklearn.pipeline import Pipeline\n",
    "from sklearn.preprocessing import StandardScaler\n",
    "iris = datasets.load_iris()\n",
    "X = iris.data\n"
   ]
  },
  {
   "cell_type": "code",
   "execution_count": 27,
   "id": "93d2bda4-009b-41e1-888a-c78484e16a66",
   "metadata": {},
   "outputs": [
    {
     "data": {
      "text/plain": [
       "(150, 4)"
      ]
     },
     "execution_count": 27,
     "metadata": {},
     "output_type": "execute_result"
    }
   ],
   "source": [
    "X.shape"
   ]
  },
  {
   "cell_type": "code",
   "execution_count": 29,
   "id": "1bee38fc-3c02-4f2d-8441-eac38f50c9b8",
   "metadata": {},
   "outputs": [],
   "source": [
    "params = {\"K\": [1,2,3,4,5,6]}"
   ]
  },
  {
   "cell_type": "code",
   "execution_count": 30,
   "id": "0bc38c3b-f82d-4600-b634-a47930b6b1ef",
   "metadata": {},
   "outputs": [],
   "source": [
    "grid = GridSearchCV(estimator=KMeans(),\n",
    "                    param_grid=params)"
   ]
  },
  {
   "cell_type": "code",
   "execution_count": 32,
   "id": "a7c4aaba-9f4f-407f-9407-14fc9aeff81c",
   "metadata": {},
   "outputs": [],
   "source": [
    "results = grid.fit(data)"
   ]
  },
  {
   "cell_type": "code",
   "execution_count": 117,
   "id": "86fbc397-0ed4-46c9-81f1-379649e63e2e",
   "metadata": {},
   "outputs": [],
   "source": [
    "scores = [ KMeans(k).fit(X).score(X) for k in range(1,7)]"
   ]
  },
  {
   "cell_type": "code",
   "execution_count": 118,
   "id": "b98e7434-0f5a-49dd-9315-f9016a8ab996",
   "metadata": {},
   "outputs": [
    {
     "data": {
      "text/plain": [
       "[<matplotlib.lines.Line2D at 0x7fc6d4dbf850>]"
      ]
     },
     "execution_count": 118,
     "metadata": {},
     "output_type": "execute_result"
    },
    {
     "data": {
      "image/png": "[encoded data removed]",
      "text/plain": [
       "<Figure size 432x288 with 1 Axes>"
      ]
     },
     "metadata": {
      "needs_background": "light"
     },
     "output_type": "display_data"
    }
   ],
   "source": [
    "plt.plot(range(1,7), scores)"
   ]
  },
  {
   "cell_type": "code",
   "execution_count": null,
   "id": "cb429e85-06cb-40bc-ab01-006f4dfdaffd",
   "metadata": {},
   "outputs": [],
   "source": []
  }
 ],
 "metadata": {
  "kernelspec": {
   "display_name": "Python 3 (ipykernel)",
   "language": "python",
   "name": "python3"
  },
  "language_info": {
   "codemirror_mode": {
    "name": "ipython",
    "version": 3
   },
   "file_extension": ".py",
   "mimetype": "text/x-python",
   "name": "python",
   "nbconvert_exporter": "python",
   "pygments_lexer": "ipython3",
   "version": "3.9.7"
  }
 },
 "nbformat": 4,
 "nbformat_minor": 5
}
